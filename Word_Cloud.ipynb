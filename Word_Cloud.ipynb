{
 "cells": [
  {
   "cell_type": "code",
   "execution_count": 3,
   "id": "af0777ac",
   "metadata": {},
   "outputs": [
    {
     "ename": "ModuleNotFoundError",
     "evalue": "No module named 'wordcloud'",
     "output_type": "error",
     "traceback": [
      "\u001b[1;31m---------------------------------------------------------------------------\u001b[0m",
      "\u001b[1;31mModuleNotFoundError\u001b[0m                       Traceback (most recent call last)",
      "\u001b[1;32mC:\\Users\\IGORVE~1\\AppData\\Local\\Temp/ipykernel_15216/256602814.py\u001b[0m in \u001b[0;36m<module>\u001b[1;34m\u001b[0m\n\u001b[0;32m      2\u001b[0m \u001b[1;32mimport\u001b[0m \u001b[0mpandas\u001b[0m \u001b[1;32mas\u001b[0m \u001b[0mpd\u001b[0m\u001b[1;33m\u001b[0m\u001b[1;33m\u001b[0m\u001b[0m\n\u001b[0;32m      3\u001b[0m \u001b[1;32mimport\u001b[0m \u001b[0mmatplotlib\u001b[0m\u001b[1;33m.\u001b[0m\u001b[0mpyplot\u001b[0m \u001b[1;32mas\u001b[0m \u001b[0mplt\u001b[0m\u001b[1;33m\u001b[0m\u001b[1;33m\u001b[0m\u001b[0m\n\u001b[1;32m----> 4\u001b[1;33m \u001b[1;32mfrom\u001b[0m \u001b[0mwordcloud\u001b[0m \u001b[1;32mimport\u001b[0m \u001b[0mWordCloud\u001b[0m\u001b[1;33m\u001b[0m\u001b[1;33m\u001b[0m\u001b[0m\n\u001b[0m",
      "\u001b[1;31mModuleNotFoundError\u001b[0m: No module named 'wordcloud'"
     ]
    }
   ],
   "source": [
    "import numpy as np\n",
    "import pandas as pd\n",
    "import matplotlib.pyplot as plt\n",
    "from wordcloud import WordCloud"
   ]
  },
  {
   "cell_type": "code",
   "execution_count": null,
   "id": "45ce0a80",
   "metadata": {},
   "outputs": [],
   "source": [
    "Frase = (\"\"\"\"Excelente\n",
    "Muito didático e objetivo\n",
    "ótimo\n",
    "Muito bom \n",
    "Muito bom \n",
    "Muito esclarecedor \n",
    "Muito bom \n",
    "Muito interessante! Na verdade, não sabia que existia um programa de inventivo desse tipo no estado. Agregou muito.\n",
    "Ótima apresentação do projeto e esclarecimento à cerca dos objetivos.\n",
    "Excelente.\n",
    "Boa\n",
    "Boa!\n",
    "Ótima \n",
    "Esclarecedora\n",
    "Muito esclarecedora\n",
    "Muito boa, esclareceu muitas dúvidas.\n",
    "Bem objetiva e esclarecedora. O slide nos permitiu um entendimento muito bom sobre o programa e o edital..\n",
    "tudooooo\n",
    "Excelente\n",
    "Muito esclarecedor\n",
    "Gostei bastante\n",
    "Interessante\n",
    "gostei muito!\n",
    "Esclarecedor\n",
    "Muito muito durante a apresentação esclareceu varias duvidas que havia ficado na leitura do edital\n",
    "Esclarecedor!\n",
    "Didático e proveitoso \n",
    "Excelente\n",
    "Muito bom \n",
    "Excelente \n",
    "Interessante para inovação no nosso curso.\n",
    "Bom\n",
    "Interessante, bem explanado.\n",
    "Muito bom\n",
    "Esclarecedor \n",
    "Muito bom\n",
    "Muito inspirador \n",
    "Relevante \n",
    "Excelente\n",
    "Bom \n",
    "Muito Esclarecedor\n",
    "Esclarecedor \n",
    "Muito esclarecedor\n",
    "Excelente \n",
    "Bem infitmativo\n",
    "Excelente\n",
    "Show\n",
    "show\n",
    "Excelente! Já esperando os próximos.\n",
    "Muito bom, não sou da área de programação mas pude aprender algumas questões pertinentes à elaboração de aplicativos.\n",
    "Achei bem assertivo e interessante.\n",
    "Show demais!! Bem esclarecedor \n",
    "Muito clara e detalhada. Parabéns!\n",
    "Ótima\n",
    "Excelente, extremanente acertiva \n",
    "Ótima! \n",
    "Muito esclarecedora e com muitas informações acerca do projeto.\n",
    "Muito boa e esclarecedora, além de motivar para que possamos pensar em soluções.\n",
    "Ótima\n",
    "Muito bem detalhada\n",
    "Bem detalhada e explicada.\n",
    "Muito boa e explicativa\n",
    "Bem clara e detalhada.\n",
    "A apresentação foi boa e instrutiva. Pude compreender bem o objetivo e público alvo do programa, o que é essencial para apresentá-lo de forma favorável e aproveitável para a comunidade de desenvolvedores de jogos do Maranhão\"\"\")"
   ]
  },
  {
   "cell_type": "code",
   "execution_count": null,
   "id": "7dc40dd5",
   "metadata": {},
   "outputs": [],
   "source": [
    "# Gerar Nuvem de Palavras\n",
    "Nuvem_Palavras = WordCloud(\n",
    "    background_color='white',\n",
    "    width=1600,\n",
    "    height=1000\n",
    ").generate( Frase )"
   ]
  },
  {
   "cell_type": "code",
   "execution_count": null,
   "id": "7dedc474",
   "metadata": {},
   "outputs": [],
   "source": [
    "# Criar um gráfico\n",
    "\n",
    "fig, ax = plt.subplots( figsize=(10, 7) )\n",
    "\n",
    "ax.imshow( Nuvem_Palavras, interpolation='bilinear' )\n",
    "\n",
    "ax.set_axis_off()"
   ]
  }
 ],
 "metadata": {
  "kernelspec": {
   "display_name": "Python 3 (ipykernel)",
   "language": "python",
   "name": "python3"
  },
  "language_info": {
   "codemirror_mode": {
    "name": "ipython",
    "version": 3
   },
   "file_extension": ".py",
   "mimetype": "text/x-python",
   "name": "python",
   "nbconvert_exporter": "python",
   "pygments_lexer": "ipython3",
   "version": "3.9.7"
  }
 },
 "nbformat": 4,
 "nbformat_minor": 5
}
